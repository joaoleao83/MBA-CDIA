{
 "cells": [
  {
   "cell_type": "markdown",
   "metadata": {},
   "source": [
    "#Importando os dados da planilha"
   ]
  },
  {
   "cell_type": "code",
   "execution_count": null,
   "metadata": {},
   "outputs": [],
   "source": [
    "import pandas as pd\n",
    "\n",
    "df = pd.read_excel(r'C:\\Users\\joao-b.neto\\OneDrive - AGU\\Documentos\\GitHub\\estatistica_descritiva\\dados\\originais\\ideb\\ideb_municipios2017.xlsx', skiprows=9, skipfooter=3)\n",
    "print(df.head())\n",
    "print(df.tail())\n"
   ]
  },
  {
   "cell_type": "code",
   "execution_count": 6,
   "metadata": {},
   "outputs": [
    {
     "name": "stdout",
     "output_type": "stream",
     "text": [
      "<class 'pandas.core.frame.DataFrame'>\n",
      "RangeIndex: 11262 entries, 0 to 11261\n",
      "Data columns (total 17 columns):\n",
      " #   Column        Non-Null Count  Dtype \n",
      "---  ------        --------------  ----- \n",
      " 0   SG_UF         11262 non-null  object\n",
      " 1   COD_MUN       11262 non-null  int64 \n",
      " 2   NO_MUNICIPIO  11262 non-null  object\n",
      " 3   REDE          11262 non-null  object\n",
      " 4   TAP_MED       11262 non-null  object\n",
      " 5   TAP_M01       11262 non-null  object\n",
      " 6   TAP_M02       11262 non-null  object\n",
      " 7   TAP_M03       11262 non-null  object\n",
      " 8   TAP_M04       11262 non-null  object\n",
      " 9   TAP_MNS       11262 non-null  object\n",
      " 10  P12           11262 non-null  object\n",
      " 11  PB12_MAT17    11262 non-null  object\n",
      " 12  PB12_PORT17   11262 non-null  object\n",
      " 13  PAD12_17      11262 non-null  object\n",
      " 14  IDEB12_17     11262 non-null  object\n",
      " 15  PROJEM_2019   11262 non-null  object\n",
      " 16  PROJEM_2021   11262 non-null  object\n",
      "dtypes: int64(1), object(16)\n",
      "memory usage: 1.5+ MB\n"
     ]
    }
   ],
   "source": [
    "df.info()"
   ]
  }
 ],
 "metadata": {
  "kernelspec": {
   "display_name": "base",
   "language": "python",
   "name": "python3"
  },
  "language_info": {
   "codemirror_mode": {
    "name": "ipython",
    "version": 3
   },
   "file_extension": ".py",
   "mimetype": "text/x-python",
   "name": "python",
   "nbconvert_exporter": "python",
   "pygments_lexer": "ipython3",
   "version": "3.12.7"
  }
 },
 "nbformat": 4,
 "nbformat_minor": 2
}
